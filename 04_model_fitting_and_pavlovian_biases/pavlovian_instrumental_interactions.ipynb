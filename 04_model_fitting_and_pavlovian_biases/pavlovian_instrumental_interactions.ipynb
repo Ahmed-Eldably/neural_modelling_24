{
 "cells": [
  {
   "metadata": {},
   "cell_type": "markdown",
   "source": [
    "# Neural Modelling exercise 4: Model fitting and Pavlovian biases\n",
    "##### Ahmed Eldably"
   ],
   "id": "5f97d40a5407022b"
  },
  {
   "cell_type": "code",
   "id": "84b1a132-8b1e-485c-8979-e178e62b7379",
   "metadata": {
    "ExecuteTime": {
     "end_time": "2024-12-07T18:13:29.704957Z",
     "start_time": "2024-12-07T18:13:29.702476Z"
    }
   },
   "source": [
    "import pandas as pd\n",
    "import numpy as np\n",
    "import matplotlib.pyplot as plt\n",
    "import seaborn as sns\n",
    "from scipy.optimize import minimize\n",
    "from scipy.special import softmax"
   ],
   "outputs": [],
   "execution_count": 1
  },
  {
   "metadata": {},
   "cell_type": "markdown",
   "source": "## 1. Data Preparation",
   "id": "946d7de0bac83637"
  },
  {
   "cell_type": "code",
   "id": "adec81ae-c74a-4d73-a8a2-79c12160a95e",
   "metadata": {
    "ExecuteTime": {
     "end_time": "2024-12-07T18:13:29.730376Z",
     "start_time": "2024-12-07T18:13:29.722179Z"
    }
   },
   "source": "df = pd.read_csv('gen_data.csv')",
   "outputs": [],
   "execution_count": 2
  },
  {
   "cell_type": "code",
   "id": "0ad35469-c4e1-4e1e-8e0d-abea64fb8d0b",
   "metadata": {
    "ExecuteTime": {
     "end_time": "2024-12-07T18:13:29.841745Z",
     "start_time": "2024-12-07T18:13:29.835565Z"
    }
   },
   "source": [
    "# Drop unnecessary columns if any\n",
    "df = df.drop(columns=[\"Unnamed: 0\"], errors=\"ignore\")"
   ],
   "outputs": [],
   "execution_count": 3
  },
  {
   "cell_type": "code",
   "id": "b379496b-3b0d-4dda-8ad1-b01334ddc5f5",
   "metadata": {
    "ExecuteTime": {
     "end_time": "2024-12-07T18:13:29.854649Z",
     "start_time": "2024-12-07T18:13:29.848755Z"
    }
   },
   "source": [
    "df.sample(5)"
   ],
   "outputs": [
    {
     "data": {
      "text/plain": [
       "      cue  pressed  outcome  ID\n",
       "3699    3        0        1   6\n",
       "4612    1        1        1   7\n",
       "1961    3        1        1   3\n",
       "3772    2        0       -1   6\n",
       "3571    1        1        1   5"
      ],
      "text/html": [
       "<div>\n",
       "<style scoped>\n",
       "    .dataframe tbody tr th:only-of-type {\n",
       "        vertical-align: middle;\n",
       "    }\n",
       "\n",
       "    .dataframe tbody tr th {\n",
       "        vertical-align: top;\n",
       "    }\n",
       "\n",
       "    .dataframe thead th {\n",
       "        text-align: right;\n",
       "    }\n",
       "</style>\n",
       "<table border=\"1\" class=\"dataframe\">\n",
       "  <thead>\n",
       "    <tr style=\"text-align: right;\">\n",
       "      <th></th>\n",
       "      <th>cue</th>\n",
       "      <th>pressed</th>\n",
       "      <th>outcome</th>\n",
       "      <th>ID</th>\n",
       "    </tr>\n",
       "  </thead>\n",
       "  <tbody>\n",
       "    <tr>\n",
       "      <th>3699</th>\n",
       "      <td>3</td>\n",
       "      <td>0</td>\n",
       "      <td>1</td>\n",
       "      <td>6</td>\n",
       "    </tr>\n",
       "    <tr>\n",
       "      <th>4612</th>\n",
       "      <td>1</td>\n",
       "      <td>1</td>\n",
       "      <td>1</td>\n",
       "      <td>7</td>\n",
       "    </tr>\n",
       "    <tr>\n",
       "      <th>1961</th>\n",
       "      <td>3</td>\n",
       "      <td>1</td>\n",
       "      <td>1</td>\n",
       "      <td>3</td>\n",
       "    </tr>\n",
       "    <tr>\n",
       "      <th>3772</th>\n",
       "      <td>2</td>\n",
       "      <td>0</td>\n",
       "      <td>-1</td>\n",
       "      <td>6</td>\n",
       "    </tr>\n",
       "    <tr>\n",
       "      <th>3571</th>\n",
       "      <td>1</td>\n",
       "      <td>1</td>\n",
       "      <td>1</td>\n",
       "      <td>5</td>\n",
       "    </tr>\n",
       "  </tbody>\n",
       "</table>\n",
       "</div>"
      ]
     },
     "execution_count": 4,
     "metadata": {},
     "output_type": "execute_result"
    }
   ],
   "execution_count": 4
  },
  {
   "cell_type": "code",
   "id": "6e28b4de-a33c-48be-a011-0f9af1656eb1",
   "metadata": {
    "ExecuteTime": {
     "end_time": "2024-12-07T18:13:29.890068Z",
     "start_time": "2024-12-07T18:13:29.885621Z"
    }
   },
   "source": [
    "# Organize the data by subject ID\n",
    "data_by_subject = {subject_id: group for subject_id, group in df.groupby(\"ID\")}\n",
    "\n",
    "# Check the structure to confirm\n",
    "list(data_by_subject.keys()), {key: len(group) for key, group in data_by_subject.items()}"
   ],
   "outputs": [
    {
     "data": {
      "text/plain": [
       "([0, 1, 2, 3, 4, 5, 6, 7, 8, 9],\n",
       " {0: 600,\n",
       "  1: 600,\n",
       "  2: 600,\n",
       "  3: 600,\n",
       "  4: 600,\n",
       "  5: 600,\n",
       "  6: 600,\n",
       "  7: 600,\n",
       "  8: 600,\n",
       "  9: 600})"
      ]
     },
     "execution_count": 5,
     "metadata": {},
     "output_type": "execute_result"
    }
   ],
   "execution_count": 5
  },
  {
   "metadata": {},
   "cell_type": "markdown",
   "source": "## 2. Recreate figure 2E of the paper ”Go and no-go learning in reward and punishment: Interactions between affect and effect”",
   "id": "ba077e8288b614a7"
  },
  {
   "cell_type": "code",
   "id": "16b25be6-6b73-4e98-b6d7-182dd2f9468d",
   "metadata": {
    "ExecuteTime": {
     "end_time": "2024-12-07T18:13:29.923401Z",
     "start_time": "2024-12-07T18:13:29.921684Z"
    }
   },
   "source": [
    "cue_mapping = {1: 'Go+', 2: 'Go-', 3: 'NoGo+', 4: 'NoGo-'} "
   ],
   "outputs": [],
   "execution_count": 6
  },
  {
   "cell_type": "code",
   "id": "e31352c1-ac8c-46cf-8a39-5b7e7992bdc4",
   "metadata": {
    "ExecuteTime": {
     "end_time": "2024-12-07T18:13:29.980596Z",
     "start_time": "2024-12-07T18:13:29.978082Z"
    }
   },
   "source": [
    "def calculate_correct_responses(data):\n",
    "    # Define the cue mapping\n",
    "    cue_mapping = {\n",
    "        1: 'Go+',\n",
    "        2: 'Go-',\n",
    "        3: 'NoGo+',\n",
    "        4: 'NoGo-'\n",
    "    }\n",
    "    data['cue_type'] = data['cue'].map(cue_mapping)\n",
    "\n",
    "    # Define correctness logic for each condition\n",
    "    data['correct'] = (\n",
    "        ((data['cue_type'] == \"Go+\") & (data['pressed'] == 1) & (data['outcome'] == 1)) |\n",
    "        ((data['cue_type'] == \"Go-\") & (data['pressed'] == 1) & (data['outcome'] == 0)) |\n",
    "        ((data['cue_type'] == \"NoGo+\") & (data['pressed'] == 0) & (data['outcome'] == 1)) |\n",
    "        ((data['cue_type'] == \"NoGo-\") & (data['pressed'] == 0) & (data['outcome'] == 0))\n",
    "    )\n",
    "    \n",
    "    return data\n"
   ],
   "outputs": [],
   "execution_count": 7
  },
  {
   "cell_type": "code",
   "id": "cb7cb33c-9289-42d8-a940-5c555b93807d",
   "metadata": {
    "ExecuteTime": {
     "end_time": "2024-12-07T18:13:30.130545Z",
     "start_time": "2024-12-07T18:13:30.032198Z"
    }
   },
   "source": [
    "# Use the function to compute correctness\n",
    "df = calculate_correct_responses(df)\n",
    "\n",
    "# Group by cue type and calculate the proportion of correct responses\n",
    "accuracy_by_cue_type = df.groupby('cue_type')['correct'].mean().reset_index()\n",
    "\n",
    "plt.figure(figsize=(8, 6))\n",
    "plt.bar(accuracy_by_cue_type['cue_type'], accuracy_by_cue_type['correct'], color='grey', edgecolor='black')\n",
    "plt.title('Proportion of Correct Responses by Cue Type', fontsize=14)\n",
    "plt.ylabel('Propability Correct', fontsize=12)\n",
    "plt.xlabel('Cue Type', fontsize=12)\n",
    "plt.xticks(rotation=45)\n",
    "plt.ylim(0, 1)\n",
    "plt.grid(axis='y', linestyle='--', alpha=0.7)\n",
    "plt.tight_layout()\n",
    "plt.show()"
   ],
   "outputs": [
    {
     "data": {
      "text/plain": [
       "<Figure size 800x600 with 1 Axes>"
      ],
      "image/png": "[encoded data removed]"
     },
     "metadata": {},
     "output_type": "display_data"
    }
   ],
   "execution_count": 8
  },
  {
   "cell_type": "markdown",
   "id": "f142c7f6-bc7a-4d46-ac95-0ce17cd01f55",
   "metadata": {},
   "source": [
    "Mean percentage of correct responses in each of the four conditions."
   ]
  },
  {
   "metadata": {},
   "cell_type": "markdown",
   "source": "### 3. Model Implementations",
   "id": "151e8a9777d1cc4e"
  },
  {
   "cell_type": "code",
   "id": "9f8bba67-d6e7-4618-9a4a-7b1f04c90bdd",
   "metadata": {
    "ExecuteTime": {
     "end_time": "2024-12-07T18:13:30.147883Z",
     "start_time": "2024-12-07T18:13:30.146020Z"
    }
   },
   "source": [
    "def softmax(action_values, beta):\n",
    "    \"\"\"\n",
    "    Args:\n",
    "        action_values (list or np.ndarray): Q-values or any action values.\n",
    "        beta (float): Inverse temperature parameter.\n",
    "    Returns:\n",
    "        np.ndarray: Softmax probabilities for each action.\n",
    "    \"\"\"\n",
    "    action_values = np.array(action_values)  # Ensure input is a NumPy array\n",
    "    max_value = np.max(beta * action_values)  # Find the maximum value\n",
    "    exp_values = np.exp(beta * action_values - max_value) \n",
    "    return exp_values / np.sum(exp_values)  # Normalize to get probabilities\n"
   ],
   "outputs": [],
   "execution_count": 9
  },
  {
   "cell_type": "markdown",
   "id": "bbab125c-c60b-4a64-814a-4d2c1a90c41d",
   "metadata": {},
   "source": [
    "#### Model 1: Rescorla-Wagner with Single Parameters\n",
    "- **Parameters**: Learning rate (\\( \\epsilon \\)), feedback sensitivity (\\( \\beta \\))."
   ]
  },
  {
   "cell_type": "code",
   "id": "6a2a33a8-0525-4cd0-8779-ccfe20d6aec0",
   "metadata": {
    "ExecuteTime": {
     "end_time": "2024-12-07T18:13:30.161659Z",
     "start_time": "2024-12-07T18:13:30.159018Z"
    }
   },
   "source": [
    "\n",
    "def log_likelihood_model_1(data, params):\n",
    "    \"\"\"\n",
    "    Model 1: Simple Rescorla-Wagner model with single learning rate (epsilon)\n",
    "             and single feedback sensitivity (beta).\n",
    "    Args:\n",
    "        data: DataFrame containing 'cue', 'pressed', and 'outcome'.\n",
    "        params: Dictionary containing {'epsilon', 'beta'}.\n",
    "    Returns:\n",
    "        Negative log-likelihood for the model.\n",
    "    \"\"\"\n",
    "    epsilon = params['epsilon']\n",
    "    beta = params['beta']\n",
    "    \n",
    "    # Initialize Q-values for two actions (go, no-go)\n",
    "    Q_values = {cue: [0.0, 0.0] for cue in np.unique(data['cue'])}\n",
    "    \n",
    "    log_likelihood = 0  # Log-likelihood accumulator\n",
    "\n",
    "    for _, trial in data.iterrows():\n",
    "        cue = trial['cue']\n",
    "        action = trial['pressed']\n",
    "        outcome = trial['outcome']\n",
    "\n",
    "        # Compute action probabilities using softmax\n",
    "        probs = softmax(Q_values[cue], beta)\n",
    "        prob_action = probs[action]\n",
    "\n",
    "        # Update log-likelihood\n",
    "        log_likelihood += np.log(prob_action)\n",
    "\n",
    "        # Update Q-values using Rescorla-Wagner rule\n",
    "        prediction_error = outcome - Q_values[cue][action]\n",
    "        Q_values[cue][action] += epsilon * prediction_error\n",
    "\n",
    "    return -log_likelihood  # Return negative log-likelihood\n"
   ],
   "outputs": [],
   "execution_count": 10
  },
  {
   "metadata": {},
   "cell_type": "markdown",
   "source": [
    "#### Model 2: Rescorla-Wagner with Separate Sensitivities\n",
    "- **Parameters**: Learning rate (\\( \\epsilon \\)), feedback sensitivity (\\( \\beta \\)), reward sensitivity (\\( \\rho_{\\text{rew}} \\)), punishment sensitivity (\\( \\rho_{\\text{pun}} \\))."
   ],
   "id": "ca1de5c0da614e51"
  },
  {
   "cell_type": "code",
   "id": "5bb685fd-b5a7-493d-94ad-1013f8b4741f",
   "metadata": {
    "ExecuteTime": {
     "end_time": "2024-12-07T18:13:30.172271Z",
     "start_time": "2024-12-07T18:13:30.169396Z"
    }
   },
   "source": [
    "def log_likelihood_model_2(data, params):\n",
    "    \"\"\"\n",
    "    Model 2: Separate reward and punishment sensitivities (rho_rew, rho_pun).\n",
    "    Args:\n",
    "        data: DataFrame containing 'cue', 'pressed', and 'outcome'.\n",
    "        params: Dictionary containing {'epsilon', 'beta', 'rho_rew', 'rho_pun'}.\n",
    "    Returns:\n",
    "        Negative log-likelihood for the model.\n",
    "    \"\"\"\n",
    "    epsilon = params['epsilon']\n",
    "    beta = params['beta']\n",
    "    rho_rew = params['rho_rew']\n",
    "    rho_pun = params['rho_pun']\n",
    "    \n",
    "    # Initialize Q-values\n",
    "    Q_values = {cue: [0.0, 0.0] for cue in np.unique(data['cue'])}\n",
    "    log_likelihood = 0\n",
    "\n",
    "    for _, trial in data.iterrows():\n",
    "        cue = trial['cue']\n",
    "        action = trial['pressed']\n",
    "        outcome = trial['outcome']\n",
    "\n",
    "        # Compute action probabilities\n",
    "        probs = softmax(Q_values[cue], beta)\n",
    "        prob_action = probs[action]\n",
    "\n",
    "        # Update log-likelihood\n",
    "        log_likelihood += np.log(prob_action)\n",
    "\n",
    "        # Update Q-values with separate sensitivities\n",
    "        if outcome == 1:  # Reward\n",
    "            prediction_error = rho_rew - Q_values[cue][action]\n",
    "        elif outcome == -1:  # Punishment\n",
    "            prediction_error = -rho_pun - Q_values[cue][action]\n",
    "        else:  # Neutral outcome\n",
    "            prediction_error = 0 - Q_values[cue][action]\n",
    "\n",
    "        Q_values[cue][action] += epsilon * prediction_error\n",
    "\n",
    "    return -log_likelihood\n"
   ],
   "outputs": [],
   "execution_count": 11
  },
  {
   "metadata": {},
   "cell_type": "markdown",
   "source": [
    "#### Model 3: Adding Biases for Approach and Withholding\n",
    "- **Parameters**: Learning rate (\\( \\epsilon \\)), feedback sensitivity (\\( \\beta \\)), reward sensitivity (\\( \\rho_{\\text{rew}} \\)), punishment sensitivity (\\( \\rho_{\\text{pun}} \\)), approach bias (\\( b_{\\text{app}} \\)), withholding bias (\\( b_{\\text{wth}} \\))."
   ],
   "id": "2a8a3d3fea96acb"
  },
  {
   "cell_type": "code",
   "id": "0802c249-3e79-4c0b-8809-5f3b2419a048",
   "metadata": {
    "ExecuteTime": {
     "end_time": "2024-12-07T18:13:30.189405Z",
     "start_time": "2024-12-07T18:13:30.186332Z"
    }
   },
   "source": [
    "def log_likelihood_model_3(data, params):\n",
    "    \"\"\"\n",
    "    Model 3: Adds biases for approach (bias_app) and withholding (bias_wth).\n",
    "    Args:\n",
    "        data: DataFrame containing 'cue', 'pressed', and 'outcome'.\n",
    "        params: Dictionary containing {'epsilon', 'beta', 'rho_rew', 'rho_pun', 'bias_app', 'bias_wth'}.\n",
    "    Returns:\n",
    "        Negative log-likelihood for the model.\n",
    "    \"\"\"\n",
    "    epsilon = params['epsilon']\n",
    "    beta = params['beta']\n",
    "    rho_rew = params['rho_rew']\n",
    "    rho_pun = params['rho_pun']\n",
    "    bias_app = params['bias_app']\n",
    "    bias_wth = params['bias_wth']\n",
    "    \n",
    "    # Initialize Q-values\n",
    "    Q_values = {cue: [0.0, 0.0] for cue in np.unique(data['cue'])}\n",
    "    log_likelihood = 0\n",
    "\n",
    "    for _, trial in data.iterrows():\n",
    "        cue = trial['cue']\n",
    "        action = trial['pressed']\n",
    "        outcome = trial['outcome']\n",
    "\n",
    "        # Add biases to Q-values\n",
    "        Q_biased = [\n",
    "            Q_values[cue][0] + bias_wth,  # No-go bias\n",
    "            Q_values[cue][1] + bias_app  # Go bias\n",
    "        ]\n",
    "        probs = softmax(Q_biased, beta)\n",
    "        prob_action = probs[action]\n",
    "\n",
    "        # Update log-likelihood\n",
    "        log_likelihood += np.log(prob_action)\n",
    "\n",
    "        # Update Q-values\n",
    "        if outcome == 1:  # Reward\n",
    "            prediction_error = rho_rew - Q_values[cue][action]\n",
    "        elif outcome == -1:  # Punishment\n",
    "            prediction_error = -rho_pun - Q_values[cue][action]\n",
    "        else:  # Neutral outcome\n",
    "            prediction_error = 0 - Q_values[cue][action]\n",
    "\n",
    "        Q_values[cue][action] += epsilon * prediction_error\n",
    "\n",
    "    return -log_likelihood\n"
   ],
   "outputs": [],
   "execution_count": 12
  },
  {
   "metadata": {},
   "cell_type": "markdown",
   "source": [
    "#### Model 4: Separate Learning Rates\n",
    "- **Parameters**: Learning rates for reward (\\( \\epsilon_{\\text{rew}} \\)), punishment (\\( \\epsilon_{\\text{pun}} \\)), omission (\\( \\epsilon_{\\text{omission}} \\)), feedback sensitivity (\\( \\beta \\))."
   ],
   "id": "dae61d8efe5d7121"
  },
  {
   "cell_type": "code",
   "id": "bf3fc035-2a9a-434f-bdf6-07fe76f59787",
   "metadata": {
    "ExecuteTime": {
     "end_time": "2024-12-07T18:13:30.196117Z",
     "start_time": "2024-12-07T18:13:30.193350Z"
    }
   },
   "source": [
    "def log_likelihood_model_4(data, params):\n",
    "    \"\"\"\n",
    "    Model 4: Separate learning rates for reward, punishment, and omission.\n",
    "    Args:\n",
    "        data: DataFrame containing 'cue', 'pressed', and 'outcome'.\n",
    "        params: Dictionary containing {'epsilon_rew', 'epsilon_pun', 'epsilon_omission', 'beta'}.\n",
    "    Returns:\n",
    "        Negative log-likelihood for the model.\n",
    "    \"\"\"\n",
    "    epsilon_rew = params['epsilon_rew']\n",
    "    epsilon_pun = params['epsilon_pun']\n",
    "    epsilon_omission = params['epsilon_omission']\n",
    "    beta = params['beta']\n",
    "    \n",
    "    Q_values = {cue: [0.0, 0.0] for cue in np.unique(data['cue'])}\n",
    "    log_likelihood = 0\n",
    "\n",
    "    for _, trial in data.iterrows():\n",
    "        cue = trial['cue']\n",
    "        action = trial['pressed']\n",
    "        outcome = trial['outcome']\n",
    "\n",
    "        probs = softmax(Q_values[cue], beta)\n",
    "        prob_action = probs[action]\n",
    "\n",
    "        log_likelihood += np.log(prob_action)\n",
    "\n",
    "        # Use appropriate learning rate\n",
    "        if outcome == 1:  # Reward\n",
    "            epsilon = epsilon_rew\n",
    "            prediction_error = 1 - Q_values[cue][action]\n",
    "        elif outcome == -1:  # Punishment\n",
    "            epsilon = epsilon_pun\n",
    "            prediction_error = -1 - Q_values[cue][action]\n",
    "        else:  # Neutral outcome\n",
    "            epsilon = epsilon_omission\n",
    "            prediction_error = 0 - Q_values[cue][action]\n",
    "\n",
    "        Q_values[cue][action] += epsilon * prediction_error\n",
    "\n",
    "    return -log_likelihood\n"
   ],
   "outputs": [],
   "execution_count": 13
  },
  {
   "metadata": {},
   "cell_type": "markdown",
   "source": [
    "#### Model 5: Combining Sensitivities and Biases\n",
    "- **Parameters**: Learning rate (\\( \\epsilon \\)), feedback sensitivity (\\( \\beta \\)), reward sensitivity (\\( \\rho_{\\text{rew}} \\)), punishment sensitivity (\\( \\rho_{\\text{pun}} \\)), approach bias (\\( b_{\\text{app}} \\)), withholding bias (\\( b_{\\text{wth}} \\))."
   ],
   "id": "ed7bb658eb1faab7"
  },
  {
   "cell_type": "code",
   "id": "10f9e71c-7f9a-40fc-aa21-770836503dff",
   "metadata": {
    "ExecuteTime": {
     "end_time": "2024-12-07T18:13:30.207066Z",
     "start_time": "2024-12-07T18:13:30.203897Z"
    }
   },
   "source": [
    "def log_likelihood_model_5(data, params):\n",
    "    \"\"\"\n",
    "    Model 5: Combines separate sensitivities and biases.\n",
    "    Args:\n",
    "        data: DataFrame containing 'cue', 'pressed', and 'outcome'.\n",
    "        params: Dictionary containing {'epsilon', 'beta', 'rho_rew', 'rho_pun', 'bias_app', 'bias_wth'}.\n",
    "    Returns:\n",
    "        Negative log-likelihood for the model.\n",
    "    \"\"\"\n",
    "    epsilon = params['epsilon']\n",
    "    beta = params['beta']\n",
    "    rho_rew = params['rho_rew']\n",
    "    rho_pun = params['rho_pun']\n",
    "    bias_app = params['bias_app']\n",
    "    bias_wth = params['bias_wth']\n",
    "    \n",
    "    # Initialize Q-values\n",
    "    Q_values = {cue: [0.0, 0.0] for cue in np.unique(data['cue'])}\n",
    "    log_likelihood = 0\n",
    "\n",
    "    for _, trial in data.iterrows():\n",
    "        cue = trial['cue']\n",
    "        action = trial['pressed']\n",
    "        outcome = trial['outcome']\n",
    "\n",
    "        # Add biases to Q-values\n",
    "        Q_biased = [\n",
    "            Q_values[cue][0] + bias_wth,  # No-go bias\n",
    "            Q_values[cue][1] + bias_app  # Go bias\n",
    "        ]\n",
    "        probs = softmax(Q_biased, beta)\n",
    "        prob_action = probs[action]\n",
    "\n",
    "        # Update log-likelihood\n",
    "        log_likelihood += np.log(prob_action)\n",
    "\n",
    "        # Update Q-values with separate sensitivities\n",
    "        if outcome == 1:  # Reward\n",
    "            prediction_error = rho_rew - Q_values[cue][action]\n",
    "        elif outcome == -1:  # Punishment\n",
    "            prediction_error = -rho_pun - Q_values[cue][action]\n",
    "        else:  # Neutral outcome\n",
    "            prediction_error = 0 - Q_values[cue][action]\n",
    "\n",
    "        Q_values[cue][action] += epsilon * prediction_error\n",
    "\n",
    "    return -log_likelihood\n"
   ],
   "outputs": [],
   "execution_count": 14
  },
  {
   "metadata": {},
   "cell_type": "markdown",
   "source": [
    "#### Model 6: Adding Noise to Softmax\n",
    "- **Parameters**: Learning rate (\\( \\epsilon \\)), feedback sensitivity (\\( \\beta \\)), reward sensitivity (\\( \\rho_{\\text{rew}} \\)), punishment sensitivity (\\( \\rho_{\\text{pun}} \\)), approach bias (\\( b_{\\text{app}} \\)), withholding bias (\\( b_{\\text{wth}} \\)), noise (\\( \\xi \\))."
   ],
   "id": "b61dc851b105bf21"
  },
  {
   "cell_type": "code",
   "id": "5df41ccd-97d9-497c-8edc-b1ff799a265e",
   "metadata": {
    "ExecuteTime": {
     "end_time": "2024-12-07T18:13:30.217483Z",
     "start_time": "2024-12-07T18:13:30.214592Z"
    }
   },
   "source": [
    "def log_likelihood_model_6(data, params):\n",
    "    \"\"\"\n",
    "    Model 6: Adds noise parameter to softmax.\n",
    "    Args:\n",
    "        data: DataFrame containing 'cue', 'pressed', and 'outcome'.\n",
    "        params: Dictionary containing {'epsilon', 'beta', 'rho_rew', 'rho_pun', 'bias_app', 'bias_wth', 'xi'}.\n",
    "    Returns:\n",
    "        Negative log-likelihood for the model.\n",
    "    \"\"\"\n",
    "    epsilon = params['epsilon']\n",
    "    beta = params['beta']\n",
    "    rho_rew = params['rho_rew']\n",
    "    rho_pun = params['rho_pun']\n",
    "    bias_app = params['bias_app']\n",
    "    bias_wth = params['bias_wth']\n",
    "    xi = params['xi']\n",
    "    \n",
    "    # Initialize Q-values\n",
    "    Q_values = {cue: [0.0, 0.0] for cue in np.unique(data['cue'])}\n",
    "    log_likelihood = 0\n",
    "\n",
    "    for _, trial in data.iterrows():\n",
    "        cue = trial['cue']\n",
    "        action = trial['pressed']\n",
    "        outcome = trial['outcome']\n",
    "\n",
    "        # Add biases and compute softmax with noise\n",
    "        Q_biased = [\n",
    "            Q_values[cue][0] + bias_wth,  # No-go bias\n",
    "            Q_values[cue][1] + bias_app  # Go bias\n",
    "        ]\n",
    "        probs = (1 - xi) * softmax(Q_biased, beta) + xi * 0.5  # Add uniform noise\n",
    "        prob_action = probs[action]\n",
    "\n",
    "        # Update log-likelihood\n",
    "        log_likelihood += np.log(prob_action)\n",
    "\n",
    "        # Update Q-values\n",
    "        if outcome == 1:  # Reward\n",
    "            prediction_error = rho_rew - Q_values[cue][action]\n",
    "        elif outcome == -1:  # Punishment\n",
    "            prediction_error = -rho_pun - Q_values[cue][action]\n",
    "        else:  # Neutral outcome\n",
    "            prediction_error = 0 - Q_values[cue][action]\n",
    "\n",
    "        Q_values[cue][action] += epsilon * prediction_error\n",
    "\n",
    "    return -log_likelihood\n"
   ],
   "outputs": [],
   "execution_count": 15
  },
  {
   "metadata": {},
   "cell_type": "markdown",
   "source": [
    "#### Model 7: Adding Pavlovian Bias\n",
    "- **Parameters**: Learning rate (\\( \\epsilon \\)), feedback sensitivity (\\( \\beta \\)), reward sensitivity (\\( \\rho_{\\text{rew}} \\)), punishment sensitivity (\\( \\rho_{\\text{pun}} \\)), approach bias (\\( b_{\\text{app}} \\)), withholding bias (\\( b_{\\text{wth}} \\)), Pavlovian bias (\\( p \\))."
   ],
   "id": "94b1dc3e811d9f6e"
  },
  {
   "cell_type": "code",
   "id": "fd0d3714-599e-4e68-8992-f70952165cc5",
   "metadata": {
    "ExecuteTime": {
     "end_time": "2024-12-07T18:13:30.228027Z",
     "start_time": "2024-12-07T18:13:30.225152Z"
    }
   },
   "source": [
    "def log_likelihood_model_7(data, params):\n",
    "    \"\"\"\n",
    "    Model 7: Adds Pavlovian bias.\n",
    "    Args:\n",
    "        data: DataFrame containing 'cue', 'pressed', and 'outcome'.\n",
    "        params: Dictionary containing {'epsilon', 'beta', 'rho_rew', 'rho_pun', 'bias_app', 'bias_wth', 'p'}.\n",
    "    Returns:\n",
    "        Negative log-likelihood for the model.\n",
    "    \"\"\"\n",
    "    epsilon = params['epsilon']\n",
    "    beta = params['beta']\n",
    "    rho_rew = params['rho_rew']\n",
    "    rho_pun = params['rho_pun']\n",
    "    bias_app = params['bias_app']\n",
    "    bias_wth = params['bias_wth']\n",
    "    p = params['p']\n",
    "    \n",
    "    # Initialize Q-values\n",
    "    Q_values = {cue: [0.0, 0.0] for cue in np.unique(data['cue'])}\n",
    "    log_likelihood = 0\n",
    "\n",
    "    for _, trial in data.iterrows():\n",
    "        cue = trial['cue']\n",
    "        action = trial['pressed']\n",
    "        outcome = trial['outcome']\n",
    "\n",
    "        # Add biases and Pavlovian adjustment\n",
    "        max_Q = max(Q_values[cue])\n",
    "        if max_Q > 0:\n",
    "            Q_values[cue][1] += p  # Bias toward \"go\" for positive values\n",
    "        elif max_Q < 0:\n",
    "            Q_values[cue][0] += p  # Bias toward \"no-go\" for negative values\n",
    "\n",
    "        Q_biased = [\n",
    "            Q_values[cue][0] + bias_wth,  # No-go bias\n",
    "            Q_values[cue][1] + bias_app  # Go bias\n",
    "        ]\n",
    "        probs = softmax(Q_biased, beta)\n",
    "        prob_action = probs[action]\n",
    "\n",
    "        # Update log-likelihood\n",
    "        log_likelihood += np.log(prob_action)\n",
    "\n",
    "        # Update Q-values\n",
    "        if outcome == 1:  # Reward\n",
    "            prediction_error = rho_rew - Q_values[cue][action]\n",
    "        elif outcome == -1:  # Punishment\n",
    "            prediction_error = -rho_pun - Q_values[cue][action]\n",
    "        else:  # Neutral outcome\n",
    "            prediction_error = 0 - Q_values[cue][action]\n",
    "\n",
    "        Q_values[cue][action] += epsilon * prediction_error\n",
    "\n",
    "    return -log_likelihood\n"
   ],
   "outputs": [],
   "execution_count": 16
  },
  {
   "metadata": {},
   "cell_type": "markdown",
   "source": [
    "#### Model 8: Refining Pavlovian Bias Application\n",
    "- **Parameters**: Learning rate (\\( \\epsilon \\)), feedback sensitivity (\\( \\beta \\)), reward sensitivity (\\( \\rho_{\\text{rew}} \\)), punishment sensitivity (\\( \\rho_{\\text{pun}} \\)), approach bias (\\( b_{\\text{app}} \\)), withholding bias (\\( b_{\\text{wth}} \\)), Pavlovian bias (\\( p \\))."
   ],
   "id": "aab35d4a1ac30bcf"
  },
  {
   "cell_type": "code",
   "id": "0b5c56a9-3c1a-440f-bb2a-824f05f8c381",
   "metadata": {
    "ExecuteTime": {
     "end_time": "2024-12-07T18:13:30.238899Z",
     "start_time": "2024-12-07T18:13:30.235459Z"
    }
   },
   "source": [
    "def log_likelihood_model_8(data, params):\n",
    "    \"\"\"\n",
    "    Model 8: Refines Pavlovian bias application.\n",
    "    Args:\n",
    "        data: DataFrame containing 'cue', 'pressed', and 'outcome'.\n",
    "        params: Dictionary containing {'epsilon', 'beta', 'rho_rew', 'rho_pun', 'bias_app', 'bias_wth', 'p'}.\n",
    "    Returns:\n",
    "        Negative log-likelihood for the model.\n",
    "    \"\"\"\n",
    "    epsilon = params['epsilon']\n",
    "    beta = params['beta']\n",
    "    rho_rew = params['rho_rew']\n",
    "    rho_pun = params['rho_pun']\n",
    "    bias_app = params['bias_app']\n",
    "    bias_wth = params['bias_wth']\n",
    "    p = params['p']\n",
    "    \n",
    "    # Initialize Q-values\n",
    "    Q_values = {cue: [0.0, 0.0] for cue in np.unique(data['cue'])}\n",
    "    log_likelihood = 0\n",
    "\n",
    "    for _, trial in data.iterrows():\n",
    "        cue = trial['cue']\n",
    "        action = trial['pressed']\n",
    "        outcome = trial['outcome']\n",
    "\n",
    "        # Add biases and Pavlovian adjustment\n",
    "        max_Q = max(Q_values[cue])\n",
    "        p_adjustment = [0, 0]\n",
    "        if max_Q > 0:\n",
    "            p_adjustment[1] = p  # Bias toward \"go\"\n",
    "        elif max_Q < 0:\n",
    "            p_adjustment[0] = p  # Bias toward \"no-go\"\n",
    "\n",
    "        Q_biased = [\n",
    "            Q_values[cue][0] + bias_wth + p_adjustment[0],  # No-go bias + Pavlovian adjustment\n",
    "            Q_values[cue][1] + bias_app + p_adjustment[1]  # Go bias + Pavlovian adjustment\n",
    "        ]\n",
    "        probs = softmax(Q_biased, beta)\n",
    "        prob_action = probs[action]\n",
    "\n",
    "        # Update log-likelihood\n",
    "        log_likelihood += np.log(prob_action)\n",
    "\n",
    "        # Update Q-values\n",
    "        if outcome == 1:  # Reward\n",
    "            prediction_error = rho_rew - Q_values[cue][action]\n",
    "        elif outcome == -1:  # Punishment\n",
    "            prediction_error = -rho_pun - Q_values[cue][action]\n",
    "        else:  # Neutral outcome\n",
    "            prediction_error = 0 - Q_values[cue][action]\n",
    "\n",
    "        Q_values[cue][action] += epsilon * prediction_error\n",
    "\n",
    "    return -log_likelihood\n"
   ],
   "outputs": [],
   "execution_count": 17
  },
  {
   "metadata": {},
   "cell_type": "markdown",
   "source": "## 4. Model Fitting and Comparison",
   "id": "c0eda9f94c1d4dc5"
  },
  {
   "cell_type": "code",
   "id": "bc71531c-df2f-4601-9ead-b57eac1b31ca",
   "metadata": {
    "ExecuteTime": {
     "end_time": "2024-12-07T18:13:30.250985Z",
     "start_time": "2024-12-07T18:13:30.248128Z"
    }
   },
   "source": [
    "def fit_model(model_function, data, initial_params, bounds):\n",
    "    \"\"\"\n",
    "    Optimize a model for a given dataset.\n",
    "    Args:\n",
    "        model_function: Function to compute negative log-likelihood for the model.\n",
    "        data: DataFrame containing subject data.\n",
    "        initial_params: Initial guesses for parameters.\n",
    "        bounds: Parameter bounds for optimization.\n",
    "    Returns:\n",
    "        dict: Optimized parameters and log-likelihood.\n",
    "    \"\"\"\n",
    "    # Objective function: Negative log-likelihood\n",
    "    objective = lambda params: model_function(data, dict(zip(initial_params.keys(), params)))\n",
    "\n",
    "    # Optimize parameters\n",
    "    result = minimize(\n",
    "        objective, \n",
    "        x0=list(initial_params.values()), \n",
    "        bounds=bounds, \n",
    "        method='L-BFGS-B'\n",
    "    )\n",
    "\n",
    "    return {\n",
    "        'parameters': dict(zip(initial_params.keys(), result.x)),\n",
    "        'log_likelihood': -result.fun\n",
    "    }\n"
   ],
   "outputs": [],
   "execution_count": 18
  },
  {
   "cell_type": "code",
   "id": "9b833c39-9e73-49c8-b8c4-daf6e6e24e89",
   "metadata": {
    "ExecuteTime": {
     "end_time": "2024-12-07T18:13:30.261782Z",
     "start_time": "2024-12-07T18:13:30.258808Z"
    }
   },
   "source": [
    "def compute_bic(log_likelihood, num_params, num_trials):\n",
    "    \"\"\"\n",
    "    Compute Bayesian Information Criterion (BIC) for a model.\n",
    "    Args:\n",
    "        log_likelihood: Total log-likelihood for the model.\n",
    "        num_params: Number of parameters in the model.\n",
    "        num_trials: Total number of trials across all subjects.\n",
    "    Returns:\n",
    "        float: BIC score.\n",
    "    \"\"\"\n",
    "    return num_params * np.log(num_trials) - 2 * log_likelihood\n"
   ],
   "outputs": [],
   "execution_count": 19
  },
  {
   "metadata": {},
   "cell_type": "markdown",
   "source": [
    "### Optimization and Comparison\n",
    "- **Optimization**: All models are fit using maximum likelihood estimation (L-BFGS-B).\n",
    "- **Comparison**: Bayesian Information Criterion (BIC) is used to evaluate model performance."
   ],
   "id": "e63a4db07a487886"
  },
  {
   "cell_type": "code",
   "id": "796db9a2-98eb-467f-8c6f-6e6737b0315b",
   "metadata": {
    "ExecuteTime": {
     "end_time": "2024-12-07T18:13:30.275049Z",
     "start_time": "2024-12-07T18:13:30.272766Z"
    }
   },
   "source": [
    "def optimize_models(models, data_by_subject, initial_params, bounds):\n",
    "    \"\"\"\n",
    "    Optimize all models for each subject.\n",
    "    Args:\n",
    "        models: Dictionary of model functions {model_name: function}.\n",
    "        data_by_subject: Dictionary of DataFrames {subject_id: data}.\n",
    "        initial_params: Dictionary of initial guesses for each model's parameters.\n",
    "        bounds: Dictionary of bounds for each model's parameters.\n",
    "    Returns:\n",
    "        dict: Results with optimized parameters and log-likelihoods for each model and subject.\n",
    "    \"\"\"\n",
    "    results = {model_name: {} for model_name in models}\n",
    "\n",
    "    for model_name, model_function in models.items():\n",
    "        print(f\"Optimizing {model_name}...\")\n",
    "        for subject_id, subject_data in data_by_subject.items():\n",
    "            # Get initial parameters and bounds for the model\n",
    "            params = initial_params[model_name]\n",
    "            param_bounds = bounds[model_name]\n",
    "\n",
    "            # Optimize the model for this subject\n",
    "            optimization_result = fit_model(model_function, subject_data, params, param_bounds)\n",
    "\n",
    "            # Store results\n",
    "            results[model_name][subject_id] = optimization_result\n",
    "\n",
    "    return results\n"
   ],
   "outputs": [],
   "execution_count": 20
  },
  {
   "cell_type": "code",
   "id": "f7ca3015-37eb-4527-a9b8-cb3098b183d8",
   "metadata": {
    "ExecuteTime": {
     "end_time": "2024-12-07T18:13:30.288086Z",
     "start_time": "2024-12-07T18:13:30.285754Z"
    }
   },
   "source": [
    "def compute_bic_for_models(results, num_trials_by_subject):\n",
    "    \"\"\"\n",
    "    Compute BIC scores for each model based on summed log-likelihoods.\n",
    "    Args:\n",
    "        results: Dictionary of model results with log-likelihoods.\n",
    "        num_trials_by_subject: Dictionary of trial counts for each subject.\n",
    "    Returns:\n",
    "        dict: BIC scores for each model.\n",
    "    \"\"\"\n",
    "    num_trials = sum(num_trials_by_subject.values())\n",
    "    bic_scores = {}\n",
    "\n",
    "    for model_name, subject_results in results.items():\n",
    "        total_log_likelihood = sum(res['log_likelihood'] for res in subject_results.values())\n",
    "        num_params = len(next(iter(subject_results.values()))['parameters'])\n",
    "        bic_scores[model_name] = compute_bic(total_log_likelihood, num_params, num_trials)\n",
    "\n",
    "    return bic_scores\n"
   ],
   "outputs": [],
   "execution_count": 21
  },
  {
   "cell_type": "code",
   "id": "9f44b7e4-d287-40c5-8c17-eeaa61f1900f",
   "metadata": {
    "ExecuteTime": {
     "end_time": "2024-12-07T18:13:30.299357Z",
     "start_time": "2024-12-07T18:13:30.296766Z"
    }
   },
   "source": [
    "def compile_results(results, bic_scores):\n",
    "    \"\"\"\n",
    "    Compile log-likelihoods, BIC scores, and parameters for all models.\n",
    "    Args:\n",
    "        results: Optimization results for all models and subjects.\n",
    "        bic_scores: BIC scores for each model.\n",
    "    Returns:\n",
    "        pd.DataFrame: Results summary for comparison.\n",
    "    \"\"\"\n",
    "    summary = []\n",
    "\n",
    "    for model_name, subject_results in results.items():\n",
    "        for subject_id, res in subject_results.items():\n",
    "            summary.append({\n",
    "                'model': model_name,\n",
    "                'subject': subject_id,\n",
    "                'log_likelihood': res['log_likelihood'],\n",
    "                **res['parameters']\n",
    "            })\n",
    "\n",
    "    summary_df = pd.DataFrame(summary)\n",
    "    summary_df['BIC'] = summary_df['model'].map(bic_scores)\n",
    "\n",
    "    return summary_df\n"
   ],
   "outputs": [],
   "execution_count": 22
  },
  {
   "cell_type": "code",
   "id": "564ad9a3-f3fd-445b-a730-5114166e88ad",
   "metadata": {
    "ExecuteTime": {
     "end_time": "2024-12-07T18:13:30.312106Z",
     "start_time": "2024-12-07T18:13:30.308032Z"
    }
   },
   "source": [
    "models = {\n",
    "    'model_1': log_likelihood_model_1,\n",
    "    'model_2': log_likelihood_model_2,\n",
    "    'model_3': log_likelihood_model_3,\n",
    "    'model_4': log_likelihood_model_4,\n",
    "    'model_5': log_likelihood_model_5,\n",
    "    'model_6': log_likelihood_model_6,\n",
    "    'model_7': log_likelihood_model_7,\n",
    "    'model_8': log_likelihood_model_8\n",
    "}\n",
    "\n",
    "# Define initial parameters\n",
    "common_params = {'epsilon': 0.1, 'beta': 5.0}\n",
    "bias_params = {'bias_app': 0.5, 'bias_wth': 0.5}\n",
    "sensitivity_params = {'rho_rew': 1.0, 'rho_pun': 1.0}\n",
    "noise_param = {'xi': 0.1}\n",
    "pavlovian_param = {'p': 0.5}\n",
    "\n",
    "initial_params = {\n",
    "    \"model_1\": {**common_params},\n",
    "    \"model_2\": {**common_params, **sensitivity_params},\n",
    "    \"model_3\": {**common_params, **sensitivity_params, **bias_params},\n",
    "    \"model_4\": {'epsilon_rew': 0.1, 'epsilon_pun': 0.1, 'epsilon_omission': 0.1, 'beta': 5.0},\n",
    "    \"model_5\": {**common_params, **sensitivity_params, **bias_params},\n",
    "    \"model_6\": {**common_params, **sensitivity_params, **bias_params, **noise_param},\n",
    "    \"model_7\": {**common_params, **sensitivity_params, **bias_params, **pavlovian_param},\n",
    "    \"model_8\": {**common_params, **sensitivity_params, **bias_params, **pavlovian_param},\n",
    "}\n",
    "\n",
    "# Define parameter bounds\n",
    "epsilon_bounds = (0.01, 1.0)\n",
    "beta_bounds = (1.0, 10.0)\n",
    "rho_bounds = (0.1, 2.0)\n",
    "bias_bounds = (0.0, 1.0)\n",
    "xi_bounds = (0.0, 0.5)\n",
    "p_bounds = (0.0, 1.0)\n",
    "\n",
    "bounds = {\n",
    "    \"model_1\": [epsilon_bounds, beta_bounds],\n",
    "    \"model_2\": [epsilon_bounds, beta_bounds, rho_bounds, rho_bounds],\n",
    "    \"model_3\": [epsilon_bounds, beta_bounds, rho_bounds, rho_bounds, bias_bounds, bias_bounds],\n",
    "    \"model_4\": [epsilon_bounds, epsilon_bounds, epsilon_bounds, beta_bounds],\n",
    "    \"model_5\": [epsilon_bounds, beta_bounds, rho_bounds, rho_bounds, bias_bounds, bias_bounds],\n",
    "    \"model_6\": [epsilon_bounds, beta_bounds, rho_bounds, rho_bounds, bias_bounds, bias_bounds, xi_bounds],\n",
    "    \"model_7\": [epsilon_bounds, beta_bounds, rho_bounds, rho_bounds, bias_bounds, bias_bounds, p_bounds],\n",
    "    \"model_8\": [epsilon_bounds, beta_bounds, rho_bounds, rho_bounds, bias_bounds, bias_bounds, p_bounds],\n",
    "}\n"
   ],
   "outputs": [],
   "execution_count": 23
  },
  {
   "cell_type": "code",
   "id": "4fe5b3a0-b584-44b5-838c-ea721c070d7b",
   "metadata": {
    "ExecuteTime": {
     "end_time": "2024-12-07T18:16:02.414570Z",
     "start_time": "2024-12-07T18:13:30.320317Z"
    }
   },
   "source": [
    "results = optimize_models(models, data_by_subject, initial_params, bounds)"
   ],
   "outputs": [
    {
     "name": "stdout",
     "output_type": "stream",
     "text": [
      "Optimizing model_1...\n",
      "Optimizing model_2...\n",
      "Optimizing model_3...\n",
      "Optimizing model_4...\n",
      "Optimizing model_5...\n",
      "Optimizing model_6...\n",
      "Optimizing model_7...\n",
      "Optimizing model_8...\n"
     ]
    }
   ],
   "execution_count": 24
  },
  {
   "cell_type": "code",
   "id": "324256e5-4c5b-412c-9b3c-941f27833f47",
   "metadata": {
    "ExecuteTime": {
     "end_time": "2024-12-07T18:16:02.522273Z",
     "start_time": "2024-12-07T18:16:02.512125Z"
    }
   },
   "source": [
    "# Summarize log-likelihoods and parameters\n",
    "summary = {\n",
    "    model_name: {\n",
    "        'total_log_likelihood': sum(res['log_likelihood'] for res in model_results.values()),\n",
    "        'num_params': len(next(iter(model_results.values()))['parameters']),\n",
    "        'subject_results': model_results\n",
    "    }\n",
    "    for model_name, model_results in results.items()\n",
    "}\n",
    "\n",
    "# Display the summarized log-likelihoods for all models\n",
    "summary_df = pd.DataFrame({\n",
    "    model_name: {\n",
    "        'Total Log-Likelihood': summary[model_name]['total_log_likelihood'],\n",
    "        'Number of Parameters': summary[model_name]['num_params']\n",
    "    }\n",
    "    for model_name in results.keys()\n",
    "}).T\n",
    "summary_df\n"
   ],
   "outputs": [
    {
     "data": {
      "text/plain": [
       "         Total Log-Likelihood  Number of Parameters\n",
       "model_1          -2866.060590                   2.0\n",
       "model_2          -2862.928628                   4.0\n",
       "model_3          -2732.855647                   6.0\n",
       "model_4          -2797.974829                   4.0\n",
       "model_5          -2732.855647                   6.0\n",
       "model_6          -2722.275402                   7.0\n",
       "model_7          -2661.482254                   7.0\n",
       "model_8          -2654.052851                   7.0"
      ],
      "text/html": [
       "<div>\n",
       "<style scoped>\n",
       "    .dataframe tbody tr th:only-of-type {\n",
       "        vertical-align: middle;\n",
       "    }\n",
       "\n",
       "    .dataframe tbody tr th {\n",
       "        vertical-align: top;\n",
       "    }\n",
       "\n",
       "    .dataframe thead th {\n",
       "        text-align: right;\n",
       "    }\n",
       "</style>\n",
       "<table border=\"1\" class=\"dataframe\">\n",
       "  <thead>\n",
       "    <tr style=\"text-align: right;\">\n",
       "      <th></th>\n",
       "      <th>Total Log-Likelihood</th>\n",
       "      <th>Number of Parameters</th>\n",
       "    </tr>\n",
       "  </thead>\n",
       "  <tbody>\n",
       "    <tr>\n",
       "      <th>model_1</th>\n",
       "      <td>-2866.060590</td>\n",
       "      <td>2.0</td>\n",
       "    </tr>\n",
       "    <tr>\n",
       "      <th>model_2</th>\n",
       "      <td>-2862.928628</td>\n",
       "      <td>4.0</td>\n",
       "    </tr>\n",
       "    <tr>\n",
       "      <th>model_3</th>\n",
       "      <td>-2732.855647</td>\n",
       "      <td>6.0</td>\n",
       "    </tr>\n",
       "    <tr>\n",
       "      <th>model_4</th>\n",
       "      <td>-2797.974829</td>\n",
       "      <td>4.0</td>\n",
       "    </tr>\n",
       "    <tr>\n",
       "      <th>model_5</th>\n",
       "      <td>-2732.855647</td>\n",
       "      <td>6.0</td>\n",
       "    </tr>\n",
       "    <tr>\n",
       "      <th>model_6</th>\n",
       "      <td>-2722.275402</td>\n",
       "      <td>7.0</td>\n",
       "    </tr>\n",
       "    <tr>\n",
       "      <th>model_7</th>\n",
       "      <td>-2661.482254</td>\n",
       "      <td>7.0</td>\n",
       "    </tr>\n",
       "    <tr>\n",
       "      <th>model_8</th>\n",
       "      <td>-2654.052851</td>\n",
       "      <td>7.0</td>\n",
       "    </tr>\n",
       "  </tbody>\n",
       "</table>\n",
       "</div>"
      ]
     },
     "execution_count": 25,
     "metadata": {},
     "output_type": "execute_result"
    }
   ],
   "execution_count": 25
  },
  {
   "cell_type": "code",
   "id": "15431371-f775-4688-87fc-6b34d6309002",
   "metadata": {
    "ExecuteTime": {
     "end_time": "2024-12-07T18:16:02.574577Z",
     "start_time": "2024-12-07T18:16:02.568004Z"
    }
   },
   "source": [
    "# Total trials across all subjects\n",
    "total_trials = sum(len(data) for data in data_by_subject.values())\n",
    "\n",
    "# Compute BIC for each model\n",
    "bic_scores = {\n",
    "    model_name: compute_bic(\n",
    "        summary[model_name]['total_log_likelihood'],\n",
    "        summary[model_name]['num_params'],\n",
    "        total_trials\n",
    "    )\n",
    "    for model_name in results.keys()\n",
    "}\n",
    "\n",
    "# Add BIC scores to summary DataFrame\n",
    "summary_df['BIC'] = [bic_scores[model] for model in summary_df.index]\n",
    "summary_df = summary_df.sort_values(by=\"BIC\")"
   ],
   "outputs": [],
   "execution_count": 26
  },
  {
   "cell_type": "code",
   "id": "22f085f0-533f-4676-a872-f041bd16d2d2",
   "metadata": {
    "ExecuteTime": {
     "end_time": "2024-12-07T18:16:02.637743Z",
     "start_time": "2024-12-07T18:16:02.626973Z"
    }
   },
   "source": [
    "summary_df"
   ],
   "outputs": [
    {
     "data": {
      "text/plain": [
       "         Total Log-Likelihood  Number of Parameters          BIC\n",
       "model_8          -2654.052851                   7.0  5369.002306\n",
       "model_7          -2661.482254                   7.0  5383.861112\n",
       "model_6          -2722.275402                   7.0  5505.447408\n",
       "model_3          -2732.855647                   6.0  5517.908382\n",
       "model_5          -2732.855647                   6.0  5517.908382\n",
       "model_4          -2797.974829                   4.0  5630.747716\n",
       "model_1          -2866.060590                   2.0  5749.520210\n",
       "model_2          -2862.928628                   4.0  5760.655315"
      ],
      "text/html": [
       "<div>\n",
       "<style scoped>\n",
       "    .dataframe tbody tr th:only-of-type {\n",
       "        vertical-align: middle;\n",
       "    }\n",
       "\n",
       "    .dataframe tbody tr th {\n",
       "        vertical-align: top;\n",
       "    }\n",
       "\n",
       "    .dataframe thead th {\n",
       "        text-align: right;\n",
       "    }\n",
       "</style>\n",
       "<table border=\"1\" class=\"dataframe\">\n",
       "  <thead>\n",
       "    <tr style=\"text-align: right;\">\n",
       "      <th></th>\n",
       "      <th>Total Log-Likelihood</th>\n",
       "      <th>Number of Parameters</th>\n",
       "      <th>BIC</th>\n",
       "    </tr>\n",
       "  </thead>\n",
       "  <tbody>\n",
       "    <tr>\n",
       "      <th>model_8</th>\n",
       "      <td>-2654.052851</td>\n",
       "      <td>7.0</td>\n",
       "      <td>5369.002306</td>\n",
       "    </tr>\n",
       "    <tr>\n",
       "      <th>model_7</th>\n",
       "      <td>-2661.482254</td>\n",
       "      <td>7.0</td>\n",
       "      <td>5383.861112</td>\n",
       "    </tr>\n",
       "    <tr>\n",
       "      <th>model_6</th>\n",
       "      <td>-2722.275402</td>\n",
       "      <td>7.0</td>\n",
       "      <td>5505.447408</td>\n",
       "    </tr>\n",
       "    <tr>\n",
       "      <th>model_3</th>\n",
       "      <td>-2732.855647</td>\n",
       "      <td>6.0</td>\n",
       "      <td>5517.908382</td>\n",
       "    </tr>\n",
       "    <tr>\n",
       "      <th>model_5</th>\n",
       "      <td>-2732.855647</td>\n",
       "      <td>6.0</td>\n",
       "      <td>5517.908382</td>\n",
       "    </tr>\n",
       "    <tr>\n",
       "      <th>model_4</th>\n",
       "      <td>-2797.974829</td>\n",
       "      <td>4.0</td>\n",
       "      <td>5630.747716</td>\n",
       "    </tr>\n",
       "    <tr>\n",
       "      <th>model_1</th>\n",
       "      <td>-2866.060590</td>\n",
       "      <td>2.0</td>\n",
       "      <td>5749.520210</td>\n",
       "    </tr>\n",
       "    <tr>\n",
       "      <th>model_2</th>\n",
       "      <td>-2862.928628</td>\n",
       "      <td>4.0</td>\n",
       "      <td>5760.655315</td>\n",
       "    </tr>\n",
       "  </tbody>\n",
       "</table>\n",
       "</div>"
      ]
     },
     "execution_count": 27,
     "metadata": {},
     "output_type": "execute_result"
    }
   ],
   "execution_count": 27
  },
  {
   "metadata": {},
   "cell_type": "markdown",
   "source": [
    "#### **Question**:\n",
    "What does this tell you about which model describes the data best?\n",
    "\n",
    "#### **Answer**:\n",
    "The Bayesian Information Criterion (BIC) results indicate that Model 8 describes the data best. With the lowest BIC score (5369.002), Model 8 provides the best balance between goodness of fit and model complexity. This suggests that incorporating Pavlovian biases, approach/withholding biases, refined sensitivity to reward and punishment, and additional adjustments for Pavlovian influences is crucial to explaining the behavioral data.\n",
    "\n",
    "Simpler models, such as Models 1 and 2, underfit the data due to their limited parameter sets, failing to capture key behavioral dynamics. Intermediate models like Model 5 and Model 6 improve the fit by introducing biases and sensitivities but lack the refined mechanisms present in Model 8. These results emphasize the importance of integrating both instrumental learning and nuanced Pavlovian influences to accurately model the observed behaviors."
   ],
   "id": "70d84552e154f334"
  },
  {
   "cell_type": "code",
   "id": "aed85e05-9175-42ff-871c-ed5c59052e82",
   "metadata": {
    "ExecuteTime": {
     "end_time": "2024-12-07T18:16:02.716417Z",
     "start_time": "2024-12-07T18:16:02.709643Z"
    }
   },
   "source": [
    "# Create a summary DataFrame for log-likelihoods and BICs\n",
    "log_likelihoods = {\n",
    "    model_name: sum(result['log_likelihood'] for result in model_results.values())\n",
    "    for model_name, model_results in results.items()\n",
    "}\n",
    "bics = {\n",
    "    model_name: compute_bic(\n",
    "        log_likelihoods[model_name],\n",
    "        len(next(iter(model_results.values()))['parameters']),  # Number of parameters\n",
    "        total_trials  # Total number of trials across all subjects\n",
    "    )\n",
    "    for model_name, model_results in results.items()\n",
    "}\n",
    "\n",
    "# Combine into a single DataFrame for visualization\n",
    "summary_data = pd.DataFrame({\n",
    "    \"Log-Likelihood\": log_likelihoods,\n",
    "    \"BIC\": bics\n",
    "})\n",
    "summary_data"
   ],
   "outputs": [
    {
     "data": {
      "text/plain": [
       "         Log-Likelihood          BIC\n",
       "model_1    -2866.060590  5749.520210\n",
       "model_2    -2862.928628  5760.655315\n",
       "model_3    -2732.855647  5517.908382\n",
       "model_4    -2797.974829  5630.747716\n",
       "model_5    -2732.855647  5517.908382\n",
       "model_6    -2722.275402  5505.447408\n",
       "model_7    -2661.482254  5383.861112\n",
       "model_8    -2654.052851  5369.002306"
      ],
      "text/html": [
       "<div>\n",
       "<style scoped>\n",
       "    .dataframe tbody tr th:only-of-type {\n",
       "        vertical-align: middle;\n",
       "    }\n",
       "\n",
       "    .dataframe tbody tr th {\n",
       "        vertical-align: top;\n",
       "    }\n",
       "\n",
       "    .dataframe thead th {\n",
       "        text-align: right;\n",
       "    }\n",
       "</style>\n",
       "<table border=\"1\" class=\"dataframe\">\n",
       "  <thead>\n",
       "    <tr style=\"text-align: right;\">\n",
       "      <th></th>\n",
       "      <th>Log-Likelihood</th>\n",
       "      <th>BIC</th>\n",
       "    </tr>\n",
       "  </thead>\n",
       "  <tbody>\n",
       "    <tr>\n",
       "      <th>model_1</th>\n",
       "      <td>-2866.060590</td>\n",
       "      <td>5749.520210</td>\n",
       "    </tr>\n",
       "    <tr>\n",
       "      <th>model_2</th>\n",
       "      <td>-2862.928628</td>\n",
       "      <td>5760.655315</td>\n",
       "    </tr>\n",
       "    <tr>\n",
       "      <th>model_3</th>\n",
       "      <td>-2732.855647</td>\n",
       "      <td>5517.908382</td>\n",
       "    </tr>\n",
       "    <tr>\n",
       "      <th>model_4</th>\n",
       "      <td>-2797.974829</td>\n",
       "      <td>5630.747716</td>\n",
       "    </tr>\n",
       "    <tr>\n",
       "      <th>model_5</th>\n",
       "      <td>-2732.855647</td>\n",
       "      <td>5517.908382</td>\n",
       "    </tr>\n",
       "    <tr>\n",
       "      <th>model_6</th>\n",
       "      <td>-2722.275402</td>\n",
       "      <td>5505.447408</td>\n",
       "    </tr>\n",
       "    <tr>\n",
       "      <th>model_7</th>\n",
       "      <td>-2661.482254</td>\n",
       "      <td>5383.861112</td>\n",
       "    </tr>\n",
       "    <tr>\n",
       "      <th>model_8</th>\n",
       "      <td>-2654.052851</td>\n",
       "      <td>5369.002306</td>\n",
       "    </tr>\n",
       "  </tbody>\n",
       "</table>\n",
       "</div>"
      ]
     },
     "execution_count": 28,
     "metadata": {},
     "output_type": "execute_result"
    }
   ],
   "execution_count": 28
  },
  {
   "cell_type": "code",
   "id": "3da9f26f-6380-405a-8999-bfe9b65a913e",
   "metadata": {
    "ExecuteTime": {
     "end_time": "2024-12-07T18:16:03.099130Z",
     "start_time": "2024-12-07T18:16:02.854321Z"
    }
   },
   "source": [
    "# Log-Likelihoods Plot\n",
    "plt.figure(figsize=(10, 6))\n",
    "bars = plt.bar(summary_data.index, summary_data[\"Log-Likelihood\"], color='skyblue')\n",
    "best_model = \"model_8\"\n",
    "best_index = list(summary_data.index).index(best_model)\n",
    "bars[best_index].set_color('gold')\n",
    "plt.title(\"Total Log-Likelihoods for All Models\")\n",
    "plt.xlabel(\"Models\")\n",
    "plt.ylabel(\"Total Log-Likelihood\")\n",
    "plt.xticks(rotation=45)\n",
    "plt.annotate(\"Best Model\",\n",
    "             xy=(best_index, summary_data[\"Log-Likelihood\"].iloc[best_index]),\n",
    "             xytext=(best_index, summary_data[\"Log-Likelihood\"].max() - 200),\n",
    "             arrowprops=dict(facecolor='black', arrowstyle=\"->\"),\n",
    "             ha='center')\n",
    "plt.tight_layout()\n",
    "plt.show()\n",
    "\n",
    "# BIC Scores Plot\n",
    "plt.figure(figsize=(10, 6))\n",
    "bars = plt.bar(summary_data.index, summary_data[\"BIC\"], color='lightcoral')\n",
    "bars[best_index].set_color('gold')\n",
    "plt.title(\"BIC Scores for All Models\")\n",
    "plt.xlabel(\"Models\")\n",
    "plt.ylabel(\"BIC Score\")\n",
    "plt.xticks(rotation=45)\n",
    "plt.annotate(\"Best Model\",\n",
    "             xy=(best_index, summary_data[\"BIC\"].iloc[best_index]),\n",
    "             xytext=(best_index, summary_data[\"BIC\"].max() - 200),\n",
    "             arrowprops=dict(facecolor='black', arrowstyle=\"->\"),\n",
    "             ha='center')\n",
    "plt.tight_layout()\n",
    "plt.show()\n"
   ],
   "outputs": [
    {
     "data": {
      "text/plain": [
       "<Figure size 1000x600 with 1 Axes>"
      ],
      "image/png": "[encoded data removed]"
     },
     "metadata": {},
     "output_type": "display_data"
    },
    {
     "data": {
      "text/plain": [
       "<Figure size 1000x600 with 1 Axes>"
      ],
      "image/png": "[encoded data removed]"
     },
     "metadata": {},
     "output_type": "display_data"
    }
   ],
   "execution_count": 29
  },
  {
   "cell_type": "code",
   "id": "6707e49b-8479-40b6-9ef3-fb8c0ea1986b",
   "metadata": {
    "ExecuteTime": {
     "end_time": "2024-12-07T18:16:03.146137Z",
     "start_time": "2024-12-07T18:16:03.135524Z"
    }
   },
   "source": [
    "# Extract parameters for Model 8 across subjects\n",
    "model_8_parameters = pd.DataFrame.from_dict(\n",
    "    {subject_id: result['parameters'] for subject_id, result in results['model_8'].items()},\n",
    "    orient='index'\n",
    ")\n",
    "\n",
    "# Assuming you have extracted Model 8 parameters\n",
    "epsilon_app = model_8_parameters[\"bias_app\"]\n",
    "epsilon_wth = model_8_parameters[\"bias_wth\"]\n",
    "\n",
    "# Calculate means and standard deviations\n",
    "mean_app = epsilon_app.mean()\n",
    "std_app = epsilon_app.std()\n",
    "mean_wth = epsilon_wth.mean()\n",
    "std_wth = epsilon_wth.std()\n",
    "\n",
    "# Print results\n",
    "print(f\"Mean ϵapp (bias_app): {mean_app:.4f} ± {std_app:.4f}\")\n",
    "print(f\"Mean ϵwth (bias_wth): {mean_wth:.4f} ± {std_wth:.4f}\")"
   ],
   "outputs": [
    {
     "name": "stdout",
     "output_type": "stream",
     "text": [
      "Mean ϵapp (bias_app): 0.6972 ± 0.0280\n",
      "Mean ϵwth (bias_wth): 0.3028 ± 0.0280\n"
     ]
    }
   ],
   "execution_count": 30
  },
  {
   "cell_type": "code",
   "id": "d1fe7fdd-2196-4bff-8990-1a46a3cb2bae",
   "metadata": {
    "ExecuteTime": {
     "end_time": "2024-12-07T18:16:03.193745Z",
     "start_time": "2024-12-07T18:16:03.184266Z"
    }
   },
   "source": [
    "from scipy.stats import ttest_rel\n",
    "\n",
    "# Perform paired t-test\n",
    "t_stat, p_value = ttest_rel(epsilon_app, epsilon_wth)\n",
    "\n",
    "# Print t-test results\n",
    "print(f\"T-statistic: {t_stat:.4f}, P-value: {p_value:.4f}\")\n"
   ],
   "outputs": [
    {
     "name": "stdout",
     "output_type": "stream",
     "text": [
      "T-statistic: 22.2836, P-value: 0.0000\n"
     ]
    }
   ],
   "execution_count": 31
  },
  {
   "cell_type": "code",
   "id": "8b90b9f5-fba8-4473-83ab-114196263abe",
   "metadata": {
    "ExecuteTime": {
     "end_time": "2024-12-07T18:16:03.333503Z",
     "start_time": "2024-12-07T18:16:03.271152Z"
    }
   },
   "source": [
    "# Plotting\n",
    "labels = ['ϵapp (bias_app)', 'ϵwth (bias_wth)']\n",
    "means = [mean_app, mean_wth]\n",
    "errors = [std_app, std_wth]\n",
    "\n",
    "plt.bar(labels, means, yerr=errors, capsize=5, color=['skyblue', 'lightcoral'])\n",
    "plt.ylabel('Mean ± SD')\n",
    "plt.title('Comparison of Learning Rates (ϵapp vs. ϵwth)')\n",
    "plt.show()\n"
   ],
   "outputs": [
    {
     "data": {
      "text/plain": [
       "<Figure size 640x480 with 1 Axes>"
      ],
      "image/png": "[encoded data removed]"
     },
     "metadata": {},
     "output_type": "display_data"
    }
   ],
   "execution_count": 32
  },
  {
   "metadata": {},
   "cell_type": "markdown",
   "source": [
    "#### **Question**:\n",
    "Compare the fitted \\( \\epsilon_{\\text{app}} \\) and \\( \\epsilon_{\\text{wth}} \\) for the last model. How do you interpret the difference in their means?\n",
    "\n",
    "#### **Answer**:\n",
    "The fitted parameters \\( \\epsilon_{\\text{app}} \\) (approach bias) and \\( \\epsilon_{\\text{wth}} \\) (withholding bias) show a significant difference in their means:\n",
    "\n",
    "- **Mean and Standard Deviation**:\n",
    "  - \\( \\epsilon_{\\text{app}} \\): Mean = **0.6972**, SD = **0.0280**.\n",
    "  - \\( \\epsilon_{\\text{wth}} \\): Mean = **0.3028**, SD = **0.0280**.\n",
    "\n",
    "- **Statistical Test**:\n",
    "  - A paired t-test comparing the two parameters yields:\n",
    "    - \\( T \\)-statistic: **22.2836**.\n",
    "    - \\( p \\)-value: **<0.0001**.\n",
    "  - The extremely low p-value indicates a statistically significant difference between the means.\n",
    "\n",
    "#### **Interpretation**:\n",
    "The higher \\( \\epsilon_{\\text{app}} \\) suggests that participants exhibit a stronger bias toward approach actions, which may reflect the influence of positive reinforcement associated with these behaviors. In contrast, the lower \\( \\epsilon_{\\text{wth}} \\) indicates a weaker bias toward withholding actions, potentially reflecting reduced Pavlovian inhibition for withdrawal behaviors.\n",
    "\n",
    "This difference aligns with the behavioral patterns observed in tasks involving Pavlovian and instrumental interactions, where approach behaviors are often enhanced by Pavlovian influences, while inhibitory behaviors are less  reinforced.\n",
    "\n",
    "\n"
   ],
   "id": "5fa435467fc0c44f"
  },
  {
   "metadata": {},
   "cell_type": "markdown",
   "source": "## Bonus Question: Fitting the first 10 subjects with the last model, using different initial parameters.",
   "id": "3c5aacaa95d7f7cd"
  },
  {
   "cell_type": "code",
   "id": "2170bccc-59db-428a-ad4a-089b54a7e175",
   "metadata": {
    "ExecuteTime": {
     "end_time": "2024-12-07T18:16:03.338489Z",
     "start_time": "2024-12-07T18:16:03.336879Z"
    }
   },
   "source": [
    "first_subject_data = data_by_subject[list(data_by_subject.keys())[0]]"
   ],
   "outputs": [],
   "execution_count": 33
  },
  {
   "cell_type": "code",
   "id": "a41b59bb-0d13-4d97-801c-65b07381f9cc",
   "metadata": {
    "ExecuteTime": {
     "end_time": "2024-12-07T18:16:03.362257Z",
     "start_time": "2024-12-07T18:16:03.358965Z"
    }
   },
   "source": [
    "# Generate random initial parameters as scalars\n",
    "np.random.seed(42)  # For reproducibility\n",
    "\n",
    "initial_parameter_sets = [\n",
    "    {\n",
    "        \"epsilon\": np.random.uniform(0.01, 1.0),\n",
    "        \"beta\": np.random.uniform(1.0, 10.0),\n",
    "        \"rho_rew\": np.random.uniform(0.1, 2.0),\n",
    "        \"rho_pun\": np.random.uniform(0.1, 2.0),\n",
    "        \"bias_app\": np.random.uniform(0.0, 1.0),\n",
    "        \"bias_wth\": np.random.uniform(0.0, 1.0),\n",
    "        \"p\": np.random.uniform(0.0, 1.0)\n",
    "    }\n",
    "    for _ in range(10)\n",
    "]\n",
    "\n",
    "# Validate the structure\n",
    "print(initial_parameter_sets)\n"
   ],
   "outputs": [
    {
     "name": "stdout",
     "output_type": "stream",
     "text": [
      "[{'epsilon': 0.38079471765888884, 'beta': 9.556428757689245, 'rho_rew': 1.4907884894416696, 'rho_pun': 1.2374511199743694, 'bias_app': 0.15601864044243652, 'bias_wth': 0.15599452033620265, 'p': 0.05808361216819946}, {'epsilon': 0.8675143843171859, 'beta': 6.41003510568888, 'rho_rew': 1.4453378978124864, 'rho_pun': 0.13911053916202465, 'bias_app': 0.9699098521619943, 'bias_wth': 0.8324426408004217, 'p': 0.21233911067827616}, {'epsilon': 0.19000671753502962, 'beta': 2.650640588680904, 'rho_rew': 0.6780602616231216, 'rho_pun': 1.097037220101252, 'bias_app': 0.43194501864211576, 'bias_wth': 0.2912291401980419, 'p': 0.6118528947223795}, {'epsilon': 0.14809892204552141, 'beta': 3.629301836816963, 'rho_rew': 0.7960875022580142, 'rho_pun': 0.9665329700123683, 'bias_app': 0.7851759613930136, 'bias_wth': 0.19967378215835974, 'p': 0.5142344384136116}, {'epsilon': 0.596490423173422, 'beta': 1.4180537144799796, 'rho_rew': 1.2543352186127328, 'rho_pun': 0.4239958350058539, 'bias_app': 0.06505159298527952, 'bias_wth': 0.9488855372533332, 'p': 0.9656320330745594}, {'epsilon': 0.8103133746352965, 'beta': 3.741523922560336, 'rho_rew': 0.28557701661212936, 'rho_pun': 1.400042750373098, 'bias_app': 0.4401524937396013, 'bias_wth': 0.12203823484477883, 'p': 0.4951769101112702}, {'epsilon': 0.04404463590406621, 'beta': 9.18388361870904, 'rho_rew': 0.5916819650400321, 'rho_pun': 1.3587923402725657, 'bias_app': 0.31171107608941095, 'bias_wth': 0.5200680211778108, 'p': 0.5467102793432796}, {'epsilon': 0.19300591097027175, 'beta': 9.726261649881026, 'rho_rew': 1.5727523643861177, 'rho_pun': 1.8850479889719591, 'bias_app': 0.8948273504276488, 'bias_wth': 0.5978999788110851, 'p': 0.9218742350231168}, {'epsilon': 0.0976075770314003, 'beta': 2.763845761772307, 'rho_rew': 0.18593184893002232, 'rho_pun': 0.7181276284502022, 'bias_app': 0.388677289689482, 'bias_wth': 0.2713490317738959, 'p': 0.8287375091519293}, {'epsilon': 0.36318579342665336, 'beta': 3.5284105871864266, 'rho_rew': 1.131122558000672, 'rho_pun': 0.367756027452049, 'bias_app': 0.8021969807540397, 'bias_wth': 0.07455064367977082, 'p': 0.9868869366005173}]\n"
     ]
    }
   ],
   "execution_count": 34
  },
  {
   "cell_type": "code",
   "id": "6c078c04-61a0-427e-a072-ce45a90cf702",
   "metadata": {
    "ExecuteTime": {
     "end_time": "2024-12-07T18:16:20.528334Z",
     "start_time": "2024-12-07T18:16:03.371429Z"
    }
   },
   "source": [
    "# List to store results\n",
    "results_first_subject = []\n",
    "model_8_bounds = bounds[\"model_8\"]\n",
    "\n",
    "# Loop over initial parameter sets and fit the model\n",
    "for i, initial_params in enumerate(initial_parameter_sets):\n",
    "    # Fit the model using the `fit_model` function\n",
    "    result = fit_model(\n",
    "        model_function=log_likelihood_model_8,\n",
    "        data=first_subject_data,\n",
    "        initial_params=initial_params,\n",
    "        bounds=model_8_bounds\n",
    "    )\n",
    "    \n",
    "    # Save results\n",
    "    results_first_subject.append({\n",
    "        \"run\": i + 1,\n",
    "        \"parameters\": result[\"parameters\"],\n",
    "        \"log_likelihood\": result[\"log_likelihood\"]\n",
    "    })"
   ],
   "outputs": [],
   "execution_count": 35
  },
  {
   "cell_type": "code",
   "id": "35d66e86-bb70-4387-a488-8c1f98335630",
   "metadata": {
    "ExecuteTime": {
     "end_time": "2024-12-07T18:21:12.108488Z",
     "start_time": "2024-12-07T18:21:12.095255Z"
    }
   },
   "source": [
    "# Convert results to a DataFrame for summary\n",
    "results_df = pd.DataFrame([\n",
    "    {\n",
    "        \"Run\": res[\"run\"],\n",
    "        \"Log-Likelihood\": res[\"log_likelihood\"],\n",
    "        **res[\"parameters\"]\n",
    "    }\n",
    "    for res in results_first_subject\n",
    "])\n",
    "\n",
    "# Print the results for inspection\n",
    "print(\"Optimization Results for First Subject:\")\n",
    "print(results_df)"
   ],
   "outputs": [
    {
     "name": "stdout",
     "output_type": "stream",
     "text": [
      "Optimization Results for First Subject:\n",
      "   Run  Log-Likelihood   epsilon      beta   rho_rew   rho_pun  bias_app  \\\n",
      "0    1     -280.458555  0.218434  2.942355  0.796879  0.766462  0.592148   \n",
      "1    2     -280.458555  0.218436  1.251842  1.872975  1.801489  0.679523   \n",
      "2    3     -280.458555  0.218437  1.338275  1.752001  1.685135  0.703684   \n",
      "3    4     -280.458555  0.218438  2.771974  0.845847  0.813564  0.615067   \n",
      "4    5     -280.458555  0.218436  1.462619  1.603057  1.541876  0.730635   \n",
      "5    6     -280.458555  0.218411  2.438440  0.961626  0.924872  0.513076   \n",
      "6    7     -280.458555  0.218436  1.275884  1.837678  1.767544  0.761668   \n",
      "7    8     -280.458555  0.218436  1.341491  1.747807  1.681096  0.693727   \n",
      "8    9     -280.458555  0.218436  1.261078  1.859253  1.788292  0.729401   \n",
      "9   10     -280.458555  0.218437  1.227704  1.909791  1.836908  0.757676   \n",
      "\n",
      "   bias_wth         p  \n",
      "0  0.364965  0.118287  \n",
      "1  0.145549  0.278022  \n",
      "2  0.204196  0.260064  \n",
      "3  0.373921  0.125557  \n",
      "4  0.273612  0.237957  \n",
      "5  0.238933  0.142743  \n",
      "6  0.237756  0.272784  \n",
      "7  0.195438  0.259443  \n",
      "8  0.199339  0.275986  \n",
      "9  0.213204  0.283488  \n"
     ]
    }
   ],
   "execution_count": 38
  },
  {
   "cell_type": "code",
   "id": "64c0f1ef-0a53-4052-9d11-fcaf45fd8f4f",
   "metadata": {
    "ExecuteTime": {
     "end_time": "2024-12-07T18:16:20.773881Z",
     "start_time": "2024-12-07T18:16:20.701546Z"
    }
   },
   "source": [
    "# Extract fitted bias_app and bias_wth across runs\n",
    "bias_app_values = results_df[\"bias_app\"]\n",
    "bias_wth_values = results_df[\"bias_wth\"]\n",
    "\n",
    "# Create the scatter plot\n",
    "plt.figure(figsize=(8, 6))\n",
    "plt.scatter(bias_app_values, bias_wth_values, color=\"dodgerblue\", edgecolor=\"black\", s=50)\n",
    "plt.title(\"Scatter Plot of Fitted Biases (bias_app vs. bias_wth)\", fontsize=14)\n",
    "plt.xlabel(\"Bias for Approach (bias_app)\", fontsize=12)\n",
    "plt.ylabel(\"Bias for Withholding (bias_wth)\", fontsize=12)\n",
    "plt.grid(alpha=0.3)\n",
    "plt.show()\n"
   ],
   "outputs": [
    {
     "data": {
      "text/plain": [
       "<Figure size 800x600 with 1 Axes>"
      ],
      "image/png": "[encoded data removed]"
     },
     "metadata": {},
     "output_type": "display_data"
    }
   ],
   "execution_count": 37
  },
  {
   "metadata": {},
   "cell_type": "markdown",
   "source": [
    "\n",
    "#### **Question**:\n",
    "How do you explain the scatter plot of \\( \\text{bias}_{\\text{app}} \\) and \\( \\text{bias}_{\\text{wth}} \\) across the fits?\n",
    "\n",
    "#### **Answer**:\n",
    "The scatter plot shows a weak positive relationship between \\( \\text{bias}_{\\text{app}} \\) (approach bias) and \\( \\text{bias}_{\\text{wth}} \\) (withholding bias), with most points clustering tightly. This indicates that the optimization process is stable across random initializations, consistently finding similar parameter values.\n",
    "\n",
    "The higher values of \\( \\text{bias}_{\\text{app}} \\) compared to \\( \\text{bias}_{\\text{wth}} \\) suggest a stronger Pavlovian influence on approach actions than on withholding actions, which aligns with behavioral expectations.\n",
    "\n"
   ],
   "id": "a4d276a5155b7dba"
  },
  {
   "metadata": {},
   "cell_type": "code",
   "outputs": [],
   "execution_count": null,
   "source": "",
   "id": "5e5b3f65d6bc19b9"
  }
 ],
 "metadata": {
  "kernelspec": {
   "display_name": "neural_modelling_venv",
   "language": "python",
   "name": "venv"
  },
  "language_info": {
   "codemirror_mode": {
    "name": "ipython",
    "version": 3
   },
   "file_extension": ".py",
   "mimetype": "text/x-python",
   "name": "python",
   "nbconvert_exporter": "python",
   "pygments_lexer": "ipython3",
   "version": "3.12.7"
  }
 },
 "nbformat": 4,
 "nbformat_minor": 5
}
